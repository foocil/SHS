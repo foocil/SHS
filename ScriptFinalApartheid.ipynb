{
 "cells": [
  {
   "cell_type": "code",
   "execution_count": 1,
   "metadata": {},
   "outputs": [],
   "source": [
    "import json\n",
    "import bz2\n",
    "import os\n",
    "import csv\n",
    "import datetime\n",
    "from bz2 import BZ2File\n",
    "import pandas as pd\n",
    "import matplotlib.pyplot as plt"
   ]
  },
  {
   "cell_type": "code",
   "execution_count": 2,
   "metadata": {},
   "outputs": [
    {
     "data": {
      "text/plain": [
       "['GDL-1948.jsonl.bz2',\n",
       " 'GDL-1949.jsonl.bz2',\n",
       " 'GDL-1950.jsonl.bz2',\n",
       " 'GDL-1951.jsonl.bz2',\n",
       " 'GDL-1952.jsonl.bz2',\n",
       " 'GDL-1953.jsonl.bz2',\n",
       " 'GDL-1954.jsonl.bz2',\n",
       " 'GDL-1955.jsonl.bz2',\n",
       " 'GDL-1956.jsonl.bz2',\n",
       " 'GDL-1957.jsonl.bz2',\n",
       " 'GDL-1958.jsonl.bz2',\n",
       " 'GDL-1959.jsonl.bz2',\n",
       " 'GDL-1960.jsonl.bz2',\n",
       " 'GDL-1961.jsonl.bz2',\n",
       " 'GDL-1962.jsonl.bz2',\n",
       " 'GDL-1963.jsonl.bz2',\n",
       " 'GDL-1964.jsonl.bz2',\n",
       " 'GDL-1965.jsonl.bz2',\n",
       " 'GDL-1966.jsonl.bz2',\n",
       " 'GDL-1967.jsonl.bz2',\n",
       " 'GDL-1968.jsonl.bz2',\n",
       " 'GDL-1969.jsonl.bz2',\n",
       " 'GDL-1970.jsonl.bz2',\n",
       " 'GDL-1971.jsonl.bz2',\n",
       " 'GDL-1972.jsonl.bz2',\n",
       " 'GDL-1973.jsonl.bz2',\n",
       " 'GDL-1974.jsonl.bz2',\n",
       " 'GDL-1975.jsonl.bz2',\n",
       " 'GDL-1976.jsonl.bz2',\n",
       " 'GDL-1977.jsonl.bz2',\n",
       " 'GDL-1978.jsonl.bz2',\n",
       " 'GDL-1979.jsonl.bz2',\n",
       " 'GDL-1980.jsonl.bz2',\n",
       " 'GDL-1981.jsonl.bz2',\n",
       " 'GDL-1982.jsonl.bz2',\n",
       " 'GDL-1983.jsonl.bz2',\n",
       " 'GDL-1984.jsonl.bz2',\n",
       " 'GDL-1985.jsonl.bz2',\n",
       " 'GDL-1986.jsonl.bz2',\n",
       " 'GDL-1987.jsonl.bz2',\n",
       " 'GDL-1988.jsonl.bz2',\n",
       " 'GDL-1989.jsonl.bz2',\n",
       " 'GDL-1990.jsonl.bz2',\n",
       " 'GDL-1991.jsonl.bz2',\n",
       " 'JDG-1948.jsonl.bz2',\n",
       " 'JDG-1949.jsonl.bz2',\n",
       " 'JDG-1950.jsonl.bz2',\n",
       " 'JDG-1951.jsonl.bz2',\n",
       " 'JDG-1952.jsonl.bz2',\n",
       " 'JDG-1953.jsonl.bz2',\n",
       " 'JDG-1954.jsonl.bz2',\n",
       " 'JDG-1955.jsonl.bz2',\n",
       " 'JDG-1956.jsonl.bz2',\n",
       " 'JDG-1957.jsonl.bz2',\n",
       " 'JDG-1958.jsonl.bz2',\n",
       " 'JDG-1959.jsonl.bz2',\n",
       " 'JDG-1960.jsonl.bz2',\n",
       " 'JDG-1961.jsonl.bz2',\n",
       " 'JDG-1962.jsonl.bz2',\n",
       " 'JDG-1963.jsonl.bz2',\n",
       " 'JDG-1964.jsonl.bz2',\n",
       " 'JDG-1965.jsonl.bz2',\n",
       " 'JDG-1966.jsonl.bz2',\n",
       " 'JDG-1967.jsonl.bz2',\n",
       " 'JDG-1968.jsonl.bz2',\n",
       " 'JDG-1969.jsonl.bz2',\n",
       " 'JDG-1970.jsonl.bz2',\n",
       " 'JDG-1971.jsonl.bz2',\n",
       " 'JDG-1972.jsonl.bz2',\n",
       " 'JDG-1973.jsonl.bz2',\n",
       " 'JDG-1974.jsonl.bz2',\n",
       " 'JDG-1975.jsonl.bz2',\n",
       " 'JDG-1976.jsonl.bz2',\n",
       " 'JDG-1977.jsonl.bz2',\n",
       " 'JDG-1978.jsonl.bz2',\n",
       " 'JDG-1979.jsonl.bz2',\n",
       " 'JDG-1980.jsonl.bz2',\n",
       " 'JDG-1981.jsonl.bz2',\n",
       " 'JDG-1982.jsonl.bz2',\n",
       " 'JDG-1983.jsonl.bz2',\n",
       " 'JDG-1984.jsonl.bz2',\n",
       " 'JDG-1985.jsonl.bz2',\n",
       " 'JDG-1986.jsonl.bz2',\n",
       " 'JDG-1987.jsonl.bz2',\n",
       " 'JDG-1988.jsonl.bz2',\n",
       " 'JDG-1989.jsonl.bz2',\n",
       " 'JDG-1990.jsonl.bz2',\n",
       " 'JDG-1991.jsonl.bz2']"
      ]
     },
     "execution_count": 2,
     "metadata": {},
     "output_type": "execute_result"
    }
   ],
   "source": [
    "pathToData = \"data/\"\n",
    "pathToJson = \"jsonl_created/\" \n",
    "pathToBz2 = \"ourCorpusBZ2/\"\n",
    "files_to_read = os.listdir(pathToData)\n",
    "files_to_read"
   ]
  },
  {
   "cell_type": "code",
   "execution_count": 3,
   "metadata": {},
   "outputs": [],
   "source": [
    "# a helper function to get the lines from am archive\n",
    "def read_jsonlines(bz2_file):\n",
    "    text = bz2_file.read().decode('utf-8')\n",
    "    for line in text.split('\\n'):\n",
    "        if line != '':\n",
    "            yield line"
   ]
  },
  {
   "cell_type": "code",
   "execution_count": 4,
   "metadata": {},
   "outputs": [],
   "source": [
    "def createOurCorpus():\n",
    "    #From the big corpus to our corpus in json.bz2\n",
    "    nb =1\n",
    "    count =0\n",
    "    returntxt = open(\"txtname.txt\", \"w+\")\n",
    "    for file in files_to_read:\n",
    "        filename = file[0:14]\n",
    "        with open(\"jsonl_created/\"+filename, 'w') as outfile:  \n",
    "\n",
    "            print(file)\n",
    "            print(\" \" + str(nb) + \"/\"+ str(len(files_to_read)))\n",
    "            text_article = \"\"\n",
    "            #open the file \n",
    "            f = BZ2File(os.path.join(pathToData, file), 'r')\n",
    "            # get the list of articles it contains (= a json object on each line)\n",
    "            articles = list(read_jsonlines(f))\n",
    "            # load the first 100 articles as json and access their attributes\n",
    "            for a in articles:\n",
    "                # decode the json string into an object (dict)\n",
    "                json_article = json.loads(a)\n",
    "                jsonString = {}\n",
    "\n",
    "                ### Change here the keyword to search for (can add more than one connected with AND / OR)\n",
    "                if \"apartheid\" or \"afrique du sud\" or \"sharpeville\" or \"ssca\" or \"anc\" or \"sarb\" or \"soweto\" or \"mandela\" or \"pretoria\" or \"johannesburg\" or \"bloemfontein\" or \"le cap\" in json_article[\"ft\"].lower(): ### expression régulière pour checker ca\n",
    "                    text_article = text_article + \" \\n**** *id:\" + str(count) + \" *from:\" + file + \"  \\n \" + json_article[\"ft\"]\n",
    "                    jsonString = {'id' : str(count), 'd' : json_article[\"d\"], 'ft' : json_article[\"ft\"], 'pp' : json_article[\"pp\"]}\n",
    "                    json.dump(jsonString, outfile)\n",
    "                    outfile.write('\\n')\n",
    "                    count += 1\n",
    "            returntxt.write(text_article)\n",
    "            nb = nb + 1 \n",
    "        f = bz2.compress(open(pathToJson + filename, 'rb').read())\n",
    "        fh = open(pathToBz2 + filename + \"A.bz2\", 'wb')\n",
    "        fh.write(f)\n",
    "        fh.close()\n",
    "    returntxt.close()"
   ]
  },
  {
   "cell_type": "code",
   "execution_count": 5,
   "metadata": {},
   "outputs": [],
   "source": [
    "#createOurCorpus()"
   ]
  },
  {
   "cell_type": "code",
   "execution_count": 6,
   "metadata": {},
   "outputs": [
    {
     "data": {
      "text/plain": [
       "['GDL-1948.jsonlA.bz2',\n",
       " 'GDL-1949.jsonlA.bz2',\n",
       " 'GDL-1950.jsonlA.bz2',\n",
       " 'GDL-1951.jsonlA.bz2',\n",
       " 'GDL-1952.jsonlA.bz2',\n",
       " 'GDL-1953.jsonlA.bz2',\n",
       " 'GDL-1954.jsonlA.bz2',\n",
       " 'GDL-1955.jsonlA.bz2',\n",
       " 'GDL-1956.jsonlA.bz2',\n",
       " 'GDL-1957.jsonlA.bz2',\n",
       " 'GDL-1958.jsonlA.bz2',\n",
       " 'GDL-1959.jsonlA.bz2',\n",
       " 'GDL-1960.jsonlA.bz2',\n",
       " 'GDL-1961.jsonlA.bz2',\n",
       " 'GDL-1962.jsonlA.bz2',\n",
       " 'GDL-1963.jsonlA.bz2',\n",
       " 'GDL-1964.jsonlA.bz2',\n",
       " 'GDL-1965.jsonlA.bz2',\n",
       " 'GDL-1966.jsonlA.bz2',\n",
       " 'GDL-1967.jsonlA.bz2',\n",
       " 'GDL-1968.jsonlA.bz2',\n",
       " 'GDL-1969.jsonlA.bz2',\n",
       " 'GDL-1970.jsonlA.bz2',\n",
       " 'GDL-1971.jsonlA.bz2',\n",
       " 'GDL-1972.jsonlA.bz2',\n",
       " 'GDL-1973.jsonlA.bz2',\n",
       " 'GDL-1974.jsonlA.bz2',\n",
       " 'GDL-1975.jsonlA.bz2',\n",
       " 'GDL-1976.jsonlA.bz2',\n",
       " 'GDL-1977.jsonlA.bz2',\n",
       " 'GDL-1978.jsonlA.bz2',\n",
       " 'GDL-1979.jsonlA.bz2',\n",
       " 'GDL-1980.jsonlA.bz2',\n",
       " 'GDL-1981.jsonlA.bz2',\n",
       " 'GDL-1982.jsonlA.bz2',\n",
       " 'GDL-1983.jsonlA.bz2',\n",
       " 'GDL-1984.jsonlA.bz2',\n",
       " 'GDL-1985.jsonlA.bz2',\n",
       " 'GDL-1986.jsonlA.bz2',\n",
       " 'GDL-1987.jsonlA.bz2',\n",
       " 'GDL-1988.jsonlA.bz2',\n",
       " 'GDL-1989.jsonlA.bz2',\n",
       " 'GDL-1990.jsonlA.bz2',\n",
       " 'GDL-1991.jsonlA.bz2',\n",
       " 'JDG-1948.jsonlA.bz2',\n",
       " 'JDG-1949.jsonlA.bz2',\n",
       " 'JDG-1950.jsonlA.bz2',\n",
       " 'JDG-1951.jsonlA.bz2',\n",
       " 'JDG-1952.jsonlA.bz2',\n",
       " 'JDG-1953.jsonlA.bz2',\n",
       " 'JDG-1954.jsonlA.bz2',\n",
       " 'JDG-1955.jsonlA.bz2',\n",
       " 'JDG-1956.jsonlA.bz2',\n",
       " 'JDG-1957.jsonlA.bz2',\n",
       " 'JDG-1958.jsonlA.bz2',\n",
       " 'JDG-1959.jsonlA.bz2',\n",
       " 'JDG-1960.jsonlA.bz2',\n",
       " 'JDG-1961.jsonlA.bz2',\n",
       " 'JDG-1962.jsonlA.bz2',\n",
       " 'JDG-1963.jsonlA.bz2',\n",
       " 'JDG-1964.jsonlA.bz2',\n",
       " 'JDG-1965.jsonlA.bz2',\n",
       " 'JDG-1966.jsonlA.bz2',\n",
       " 'JDG-1967.jsonlA.bz2',\n",
       " 'JDG-1968.jsonlA.bz2',\n",
       " 'JDG-1969.jsonlA.bz2',\n",
       " 'JDG-1970.jsonlA.bz2',\n",
       " 'JDG-1971.jsonlA.bz2',\n",
       " 'JDG-1972.jsonlA.bz2',\n",
       " 'JDG-1973.jsonlA.bz2',\n",
       " 'JDG-1974.jsonlA.bz2',\n",
       " 'JDG-1975.jsonlA.bz2',\n",
       " 'JDG-1976.jsonlA.bz2',\n",
       " 'JDG-1977.jsonlA.bz2',\n",
       " 'JDG-1978.jsonlA.bz2',\n",
       " 'JDG-1979.jsonlA.bz2',\n",
       " 'JDG-1980.jsonlA.bz2',\n",
       " 'JDG-1981.jsonlA.bz2',\n",
       " 'JDG-1982.jsonlA.bz2',\n",
       " 'JDG-1983.jsonlA.bz2',\n",
       " 'JDG-1984.jsonlA.bz2',\n",
       " 'JDG-1985.jsonlA.bz2',\n",
       " 'JDG-1986.jsonlA.bz2',\n",
       " 'JDG-1987.jsonlA.bz2',\n",
       " 'JDG-1988.jsonlA.bz2',\n",
       " 'JDG-1989.jsonlA.bz2',\n",
       " 'JDG-1990.jsonlA.bz2',\n",
       " 'JDG-1991.jsonlA.bz2']"
      ]
     },
     "execution_count": 6,
     "metadata": {},
     "output_type": "execute_result"
    }
   ],
   "source": [
    "files_to_read = os.listdir(pathToBz2)\n",
    "files_to_read"
   ]
  },
  {
   "cell_type": "code",
   "execution_count": 7,
   "metadata": {},
   "outputs": [],
   "source": [
    "def createCorpusApartheid():\n",
    "    #From the big corpus to our corpus in json.bz2\n",
    "    nb =1\n",
    "    count =0\n",
    "    returntxt = open(\"Apartheid/txtname.txt\", \"w+\")\n",
    "    for file in files_to_read:\n",
    "        filename = file[0:14]\n",
    "        with open(\"Apartheid/json/\"+filename, 'w') as outfile:  \n",
    "\n",
    "            print(file)\n",
    "            print(\" \" + str(nb) + \"/\"+ str(len(files_to_read)))\n",
    "            text_article = \"\"\n",
    "            #open the file \n",
    "            f = BZ2File(os.path.join(pathToBz2, file), 'r')\n",
    "            # get the list of articles it contains (= a json object on each line)\n",
    "            articles = list(read_jsonlines(f))\n",
    "            # load the first 100 articles as json and access their attributes\n",
    "            for a in articles:\n",
    "                # decode the json string into an object (dict)\n",
    "                json_article = json.loads(a)\n",
    "                jsonString = {}\n",
    "\n",
    "                ### Change here the keyword to search for (can add more than one connected with AND / OR)\n",
    "                if \"apartheid\" in json_article[\"ft\"].lower(): \n",
    "                    text_article = text_article + \" \\n**** *id:\" + str(count) + \" *from:\" + file + \"  \\n \" + json_article[\"ft\"]\n",
    "                    jsonString = {'id' : str(count), 'd' : json_article[\"d\"], 'ft' : json_article[\"ft\"], 'pp' : json_article[\"pp\"]}\n",
    "                    json.dump(jsonString, outfile)\n",
    "                    outfile.write('\\n')\n",
    "                    count += 1\n",
    "            returntxt.write(text_article)\n",
    "            nb = nb + 1 \n",
    "        f = bz2.compress(open(\"Apartheid/json/\" + filename, 'rb').read())\n",
    "        fh = open(\"Apartheid/bz2/\" + filename + \"A.bz2\", 'wb')\n",
    "        fh.write(f)\n",
    "        fh.close()\n",
    "    returntxt.close()"
   ]
  },
  {
   "cell_type": "code",
   "execution_count": 8,
   "metadata": {},
   "outputs": [],
   "source": [
    "#createCorpusApartheid()"
   ]
  },
  {
   "cell_type": "code",
   "execution_count": 9,
   "metadata": {},
   "outputs": [
    {
     "data": {
      "text/plain": [
       "['GDL-1948.jsonlA.bz2',\n",
       " 'GDL-1949.jsonlA.bz2',\n",
       " 'GDL-1950.jsonlA.bz2',\n",
       " 'GDL-1951.jsonlA.bz2',\n",
       " 'GDL-1952.jsonlA.bz2',\n",
       " 'GDL-1953.jsonlA.bz2',\n",
       " 'GDL-1954.jsonlA.bz2',\n",
       " 'GDL-1955.jsonlA.bz2',\n",
       " 'GDL-1956.jsonlA.bz2',\n",
       " 'GDL-1957.jsonlA.bz2',\n",
       " 'GDL-1958.jsonlA.bz2',\n",
       " 'GDL-1959.jsonlA.bz2',\n",
       " 'GDL-1960.jsonlA.bz2',\n",
       " 'GDL-1961.jsonlA.bz2',\n",
       " 'GDL-1962.jsonlA.bz2',\n",
       " 'GDL-1963.jsonlA.bz2',\n",
       " 'GDL-1964.jsonlA.bz2',\n",
       " 'GDL-1965.jsonlA.bz2',\n",
       " 'GDL-1966.jsonlA.bz2',\n",
       " 'GDL-1967.jsonlA.bz2',\n",
       " 'GDL-1968.jsonlA.bz2',\n",
       " 'GDL-1969.jsonlA.bz2',\n",
       " 'GDL-1970.jsonlA.bz2',\n",
       " 'GDL-1971.jsonlA.bz2',\n",
       " 'GDL-1972.jsonlA.bz2',\n",
       " 'GDL-1973.jsonlA.bz2',\n",
       " 'GDL-1974.jsonlA.bz2',\n",
       " 'GDL-1975.jsonlA.bz2',\n",
       " 'GDL-1976.jsonlA.bz2',\n",
       " 'GDL-1977.jsonlA.bz2',\n",
       " 'GDL-1978.jsonlA.bz2',\n",
       " 'GDL-1979.jsonlA.bz2',\n",
       " 'GDL-1980.jsonlA.bz2',\n",
       " 'GDL-1981.jsonlA.bz2',\n",
       " 'GDL-1982.jsonlA.bz2',\n",
       " 'GDL-1983.jsonlA.bz2',\n",
       " 'GDL-1984.jsonlA.bz2',\n",
       " 'GDL-1985.jsonlA.bz2',\n",
       " 'GDL-1986.jsonlA.bz2',\n",
       " 'GDL-1987.jsonlA.bz2',\n",
       " 'GDL-1988.jsonlA.bz2',\n",
       " 'GDL-1989.jsonlA.bz2',\n",
       " 'GDL-1990.jsonlA.bz2',\n",
       " 'GDL-1991.jsonlA.bz2',\n",
       " 'JDG-1948.jsonlA.bz2',\n",
       " 'JDG-1949.jsonlA.bz2',\n",
       " 'JDG-1950.jsonlA.bz2',\n",
       " 'JDG-1951.jsonlA.bz2',\n",
       " 'JDG-1952.jsonlA.bz2',\n",
       " 'JDG-1953.jsonlA.bz2',\n",
       " 'JDG-1954.jsonlA.bz2',\n",
       " 'JDG-1955.jsonlA.bz2',\n",
       " 'JDG-1956.jsonlA.bz2',\n",
       " 'JDG-1957.jsonlA.bz2',\n",
       " 'JDG-1958.jsonlA.bz2',\n",
       " 'JDG-1959.jsonlA.bz2',\n",
       " 'JDG-1960.jsonlA.bz2',\n",
       " 'JDG-1961.jsonlA.bz2',\n",
       " 'JDG-1962.jsonlA.bz2',\n",
       " 'JDG-1963.jsonlA.bz2',\n",
       " 'JDG-1964.jsonlA.bz2',\n",
       " 'JDG-1965.jsonlA.bz2',\n",
       " 'JDG-1966.jsonlA.bz2',\n",
       " 'JDG-1967.jsonlA.bz2',\n",
       " 'JDG-1968.jsonlA.bz2',\n",
       " 'JDG-1969.jsonlA.bz2',\n",
       " 'JDG-1970.jsonlA.bz2',\n",
       " 'JDG-1971.jsonlA.bz2',\n",
       " 'JDG-1972.jsonlA.bz2',\n",
       " 'JDG-1973.jsonlA.bz2',\n",
       " 'JDG-1974.jsonlA.bz2',\n",
       " 'JDG-1975.jsonlA.bz2',\n",
       " 'JDG-1976.jsonlA.bz2',\n",
       " 'JDG-1977.jsonlA.bz2',\n",
       " 'JDG-1978.jsonlA.bz2',\n",
       " 'JDG-1979.jsonlA.bz2',\n",
       " 'JDG-1980.jsonlA.bz2',\n",
       " 'JDG-1981.jsonlA.bz2',\n",
       " 'JDG-1982.jsonlA.bz2',\n",
       " 'JDG-1983.jsonlA.bz2',\n",
       " 'JDG-1984.jsonlA.bz2',\n",
       " 'JDG-1985.jsonlA.bz2',\n",
       " 'JDG-1986.jsonlA.bz2',\n",
       " 'JDG-1987.jsonlA.bz2',\n",
       " 'JDG-1988.jsonlA.bz2',\n",
       " 'JDG-1989.jsonlA.bz2',\n",
       " 'JDG-1990.jsonlA.bz2',\n",
       " 'JDG-1991.jsonlA.bz2']"
      ]
     },
     "execution_count": 9,
     "metadata": {},
     "output_type": "execute_result"
    }
   ],
   "source": [
    "files_to_read = os.listdir(\"Apartheid/bz2/\")\n",
    "files_to_read"
   ]
  },
  {
   "cell_type": "code",
   "execution_count": 10,
   "metadata": {},
   "outputs": [],
   "source": [
    "### y: year, m: month, d: day, deltap: the delta from dateEvent to max in days, deltan: the delta to dateEvent from min in days\n",
    "### dateEventstring: date of the event we want to look at.\n",
    "def csvtxtwriter(csvname, y, m, d, deltap, deltan):\n",
    "    nb =0\n",
    "    count =0\n",
    "    dateMax = datetime.timedelta(days = deltap)\n",
    "    dateMin = datetime.timedelta(days = deltan)\n",
    "    dateEventstring = str(y)+\"-\"+str(m) + \"-\"+str(d)\n",
    "    dateEvent = datetime.datetime.strptime(dateEventstring, '%Y-%m-%d')\n",
    "    pathCSV = \"Apartheid/csv/\"\n",
    "    text_articletxt = \"\"\n",
    "    with open(pathCSV + csvname, 'w', newline='') as csvFinal:\n",
    "        linewriter = csv.writer(csvFinal, delimiter = '*')\n",
    "        linewriter.writerow([\"id\", \"date\"])\n",
    "        print(files_to_read)\n",
    "        for file in files_to_read:\n",
    "            nb +=1\n",
    "            print(file)\n",
    "            print(\" \" + str(nb) + \"/\"+ str(len(files_to_read)))\n",
    "            #open the file \n",
    "            f = BZ2File(os.path.join(\"Apartheid/bz2/\", file), 'r')\n",
    "            # get the list of articles it contains (= a json object on each line)\n",
    "            articles = list(read_jsonlines(f))\n",
    "            # load the first 100 articles as json and access their attributes\n",
    "\n",
    "            for a in articles:\n",
    "                # decode the json string into an object (dict)\n",
    "                json_article = json.loads(a)\n",
    "                datearticle = datetime.datetime.strptime(json_article[\"d\"], '%Y-%m-%d')\n",
    "                if ((datearticle - dateEvent < dateMax) and (datearticle - dateEvent > dateMin)) :\n",
    "                    linewriter.writerow([str(count), json_article[\"d\"][:7]]) ###if we want groupbyday: remove [:7]\n",
    "                    count += 1"
   ]
  },
  {
   "cell_type": "code",
   "execution_count": 11,
   "metadata": {},
   "outputs": [],
   "source": [
    "#csvtxtwriter(\"text1.csv\", 1949, 6, 29, 365, -700)"
   ]
  },
  {
   "cell_type": "code",
   "execution_count": 34,
   "metadata": {},
   "outputs": [],
   "source": [
    "datey = [1948, 1960, 1962, 1976, 1983, 1986, 1990, 1990, 1949]\n",
    "datem = [6, 3, 8, 6, 5, 6, 2, 3, 6]\n",
    "dated = [15, 21, 15, 16, 20, 12, 15, 11, 29]\n",
    "title = [\"début de l'Apartheid\", \"Massacre de Sharpeville\", \"Condamnation de Mandela\", \"Émeutes de Soweto\", \"Attentat de Church Street\", \"état d'urgence\", \"libération de Mandela\", \"légalisation des partis politiques\", \"test1\"]"
   ]
  },
  {
   "cell_type": "code",
   "execution_count": 35,
   "metadata": {},
   "outputs": [
    {
     "name": "stdout",
     "output_type": "stream",
     "text": [
      "FOR TOTAL: 0/9\n",
      "FOR TOTAL: 1/9\n",
      "FOR TOTAL: 2/9\n",
      "FOR TOTAL: 3/9\n",
      "FOR TOTAL: 4/9\n",
      "FOR TOTAL: 5/9\n",
      "FOR TOTAL: 6/9\n",
      "FOR TOTAL: 7/9\n"
     ]
    }
   ],
   "source": [
    "for d in range(0, len(datey)-1):\n",
    "    print(\"FOR TOTAL: \" + str(d) + \"/\" + str(len(datey)))\n",
    "    name = str(datey[d]) +\"_\" + str(datem[d]) + \".csv\"\n",
    "    #csvtxtwriter(name, datey[d], datem[d], dated[d], 366, -366)"
   ]
  },
  {
   "cell_type": "code",
   "execution_count": 36,
   "metadata": {},
   "outputs": [],
   "source": [
    "def fromCSVtoGraph(csvname, title):\n",
    "    a = pd.read_csv(csvname, delimiter='*')\n",
    "    futurG = a.groupby(['date']).count().sort_values(by='date')\n",
    "    ax = futurG.plot(kind='bar', title = title)\n",
    "    middle = len(ax.get_xticklabels()[:]) / 2\n",
    "    ax.get_xticklabels()[int(middle)].set_color(\"red\")\n",
    "    ax.legend([\"Occurences\"]);\n",
    "    plt.savefig(\"Apartheid/fig/\"+title+\".png\", bbox_inches = 'tight')\n",
    "    return ax"
   ]
  },
  {
   "cell_type": "code",
   "execution_count": 37,
   "metadata": {},
   "outputs": [
    {
     "data": {
      "text/plain": [
       "<matplotlib.axes._subplots.AxesSubplot at 0x19573a13128>"
      ]
     },
     "execution_count": 37,
     "metadata": {},
     "output_type": "execute_result"
    },
    {
     "data": {
      "image/png": "[encoded data removed]",
      "text/plain": [
       "<Figure size 432x288 with 1 Axes>"
      ]
     },
     "metadata": {},
     "output_type": "display_data"
    }
   ],
   "source": [
    "fromCSVtoGraph('Apartheid/csv/text1.csv', \"premier test\")"
   ]
  },
  {
   "cell_type": "code",
   "execution_count": 38,
   "metadata": {},
   "outputs": [
    {
     "data": {
      "text/plain": [
       "['1948_6.csv',\n",
       " '1960_3.csv',\n",
       " '1962_8.csv',\n",
       " '1976_6.csv',\n",
       " '1983_5.csv',\n",
       " '1986_6.csv',\n",
       " '1990_2.csv',\n",
       " '1990_3.csv',\n",
       " 'text1.csv']"
      ]
     },
     "execution_count": 38,
     "metadata": {},
     "output_type": "execute_result"
    }
   ],
   "source": [
    "csv_to_read = os.listdir(\"Apartheid/csv/\")\n",
    "csv_to_read"
   ]
  },
  {
   "cell_type": "code",
   "execution_count": 39,
   "metadata": {},
   "outputs": [
    {
     "data": {
      "image/png": "[encoded data removed]",
      "text/plain": [
       "<Figure size 432x288 with 1 Axes>"
      ]
     },
     "metadata": {},
     "output_type": "display_data"
    },
    {
     "data": {
      "image/png": "[encoded data removed]",
      "text/plain": [
       "<Figure size 432x288 with 1 Axes>"
      ]
     },
     "metadata": {},
     "output_type": "display_data"
    },
    {
     "data": {
      "image/png": "[encoded data removed]",
      "text/plain": [
       "<Figure size 432x288 with 1 Axes>"
      ]
     },
     "metadata": {},
     "output_type": "display_data"
    },
    {
     "data": {
      "image/png": "[encoded data removed]",
      "text/plain": [
       "<Figure size 432x288 with 1 Axes>"
      ]
     },
     "metadata": {},
     "output_type": "display_data"
    },
    {
     "data": {
      "image/png": "[encoded data removed]",
      "text/plain": [
       "<Figure size 432x288 with 1 Axes>"
      ]
     },
     "metadata": {},
     "output_type": "display_data"
    },
    {
     "data": {
      "image/png": "[encoded data removed]",
      "text/plain": [
       "<Figure size 432x288 with 1 Axes>"
      ]
     },
     "metadata": {},
     "output_type": "display_data"
    },
    {
     "data": {
      "image/png": "[encoded data removed]",
      "text/plain": [
       "<Figure size 432x288 with 1 Axes>"
      ]
     },
     "metadata": {},
     "output_type": "display_data"
    },
    {
     "data": {
      "image/png": "[encoded data removed]",
      "text/plain": [
       "<Figure size 432x288 with 1 Axes>"
      ]
     },
     "metadata": {},
     "output_type": "display_data"
    },
    {
     "data": {
      "image/png": "[encoded data removed]",
      "text/plain": [
       "<Figure size 432x288 with 1 Axes>"
      ]
     },
     "metadata": {},
     "output_type": "display_data"
    }
   ],
   "source": [
    "indexi = 0\n",
    "for csv in csv_to_read:\n",
    "    fromCSVtoGraph(\"Apartheid/csv/\" + csv, title[indexi])\n",
    "    indexi = indexi + 1"
   ]
  },
  {
   "cell_type": "code",
   "execution_count": null,
   "metadata": {},
   "outputs": [],
   "source": []
  }
 ],
 "metadata": {
  "kernelspec": {
   "display_name": "Python 3",
   "language": "python",
   "name": "python3"
  },
  "language_info": {
   "codemirror_mode": {
    "name": "ipython",
    "version": 3
   },
   "file_extension": ".py",
   "mimetype": "text/x-python",
   "name": "python",
   "nbconvert_exporter": "python",
   "pygments_lexer": "ipython3",
   "version": "3.6.5"
  }
 },
 "nbformat": 4,
 "nbformat_minor": 2
}
