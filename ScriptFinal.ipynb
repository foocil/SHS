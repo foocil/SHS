{
 "cells": [
  {
   "cell_type": "code",
   "execution_count": 16,
   "metadata": {},
   "outputs": [],
   "source": [
    "import json\n",
    "import bz2\n",
    "import os\n",
    "import csv\n",
    "import datetime\n",
    "from bz2 import BZ2File\n",
    "import pandas as pd\n",
    "import matplotlib.pyplot as plt"
   ]
  },
  {
   "cell_type": "code",
   "execution_count": 10,
   "metadata": {},
   "outputs": [
    {
     "data": {
      "text/plain": [
       "['GDL-1958.jsonl.bz2', 'GDL-1959.jsonl.bz2', 'GDL-1960.jsonl.bz2']"
      ]
     },
     "execution_count": 10,
     "metadata": {},
     "output_type": "execute_result"
    }
   ],
   "source": [
    "pathToData = \"data/\"\n",
    "pathToJson = \"jsonl_created/\" \n",
    "pathToBz2 = \"ourCorpusBZ2/\"\n",
    "files_to_read = os.listdir(pathToData)\n",
    "files_to_read"
   ]
  },
  {
   "cell_type": "code",
   "execution_count": 11,
   "metadata": {},
   "outputs": [],
   "source": [
    "# a helper function to get the lines from am archive\n",
    "def read_jsonlines(bz2_file):\n",
    "    text = bz2_file.read().decode('utf-8')\n",
    "    for line in text.split('\\n'):\n",
    "        if line != '':\n",
    "            yield line"
   ]
  },
  {
   "cell_type": "code",
   "execution_count": 13,
   "metadata": {},
   "outputs": [],
   "source": [
    "def createOurCorpus():\n",
    "    #From the big corpus to our corpus in json.bz2\n",
    "    nb =1\n",
    "    count =0\n",
    "    returntxt = open(\"txtname.txt\", \"w+\")\n",
    "    for file in files_to_read:\n",
    "        filename = file[0:14]\n",
    "        with open(\"jsonl_created/\"+filename, 'w') as outfile:  \n",
    "\n",
    "            print(file)\n",
    "            print(\" \" + str(nb) + \"/\"+ str(len(files_to_read)))\n",
    "            text_article = \"\"\n",
    "            #open the file \n",
    "            f = BZ2File(os.path.join(pathToData, file), 'r')\n",
    "            # get the list of articles it contains (= a json object on each line)\n",
    "            articles = list(read_jsonlines(f))\n",
    "            # load the first 100 articles as json and access their attributes\n",
    "            for a in articles:\n",
    "                # decode the json string into an object (dict)\n",
    "                json_article = json.loads(a)\n",
    "                jsonString = {}\n",
    "\n",
    "                ### Change here the keyword to search for (can add more than one connected with AND / OR)\n",
    "                if \"apartheid\" in json_article[\"ft\"].lower(): ### expression régulière pour checker ca\n",
    "                    text_article = text_article + \" \\n**** *id:\" + str(count) + \" *from:\" + file + \"  \\n \" + json_article[\"ft\"]\n",
    "                    jsonString = {'id' : str(count), 'd' : json_article[\"d\"], 'ft' : json_article[\"ft\"]}\n",
    "                    json.dump(jsonString, outfile)\n",
    "                    outfile.write('\\n')\n",
    "                    count += 1\n",
    "            returntxt.write(text_article)\n",
    "            nb = nb + 1 \n",
    "        f = bz2.compress(open(pathToJson + filename, 'rb').read())\n",
    "        fh = open(pathToBz2 + filename + \"A.bz2\", 'wb')\n",
    "        fh.write(f)\n",
    "        fh.close()\n",
    "    returntxt.close()"
   ]
  },
  {
   "cell_type": "code",
   "execution_count": 14,
   "metadata": {},
   "outputs": [
    {
     "name": "stdout",
     "output_type": "stream",
     "text": [
      "GDL-1958.jsonl.bz2\n",
      " 1/3\n",
      "GDL-1959.jsonl.bz2\n",
      " 2/3\n",
      "GDL-1960.jsonl.bz2\n",
      " 3/3\n"
     ]
    }
   ],
   "source": [
    "createOurCorpus()"
   ]
  },
  {
   "cell_type": "code",
   "execution_count": 19,
   "metadata": {},
   "outputs": [
    {
     "data": {
      "text/plain": [
       "['GDL-1958.jsonlA.bz2', 'GDL-1959.jsonlA.bz2', 'GDL-1960.jsonlA.bz2']"
      ]
     },
     "execution_count": 19,
     "metadata": {},
     "output_type": "execute_result"
    }
   ],
   "source": [
    "files_to_read = os.listdir(pathToBz2)\n",
    "files_to_read"
   ]
  },
  {
   "cell_type": "code",
   "execution_count": 20,
   "metadata": {},
   "outputs": [],
   "source": [
    "### y: year, m: month, d: day, deltap: the delta from dateEvent to max in days, deltan: the delta to dateEvent from min in days\n",
    "### dateEventstring: date of the event we want to look at.\n",
    "def csvtxtwriter(csvname, y, m, d, deltap, deltan, dateEventstring):\n",
    "    nb =0\n",
    "    count =0\n",
    "    dateMax = datetime.timedelta(days=deltap)\n",
    "    dateMin = datetime.timedelta(days = deltan)\n",
    "    dateEvent = datetime.datetime.strptime(dateEventstring, '%Y-%m-%d')\n",
    "    text_articletxt = \"\"\n",
    "    with open(csvname, 'w', newline='') as csvFinal:\n",
    "        linewriter = csv.writer(csvFinal, delimiter = '*')\n",
    "        linewriter.writerow([\"id\", \"date\"])\n",
    "        print(files_to_read)\n",
    "        for file in files_to_read:\n",
    "            nb +=1\n",
    "            print(file)\n",
    "            print(\" \" + str(nb) + \"/\"+ str(len(files_to_read)))\n",
    "            #open the file \n",
    "            f = BZ2File(os.path.join(pathToBz2, file), 'r')\n",
    "            # get the list of articles it contains (= a json object on each line)\n",
    "            articles = list(read_jsonlines(f))\n",
    "            # load the first 100 articles as json and access their attributes\n",
    "\n",
    "            for a in articles[:100]:\n",
    "                # decode the json string into an object (dict)\n",
    "                json_article = json.loads(a)\n",
    "                datearticle = datetime.datetime.strptime(json_article[\"d\"], '%Y-%m-%d')\n",
    "                if ((datearticle - dateEvent < dateMax) and (datearticle - dateEvent > dateMin)) :\n",
    "                    linewriter.writerow([str(count), json_article[\"d\"][:7]]) ###if we want groupbyday: remove [:7]\n",
    "                    count += 1"
   ]
  },
  {
   "cell_type": "code",
   "execution_count": 24,
   "metadata": {},
   "outputs": [
    {
     "name": "stdout",
     "output_type": "stream",
     "text": [
      "['GDL-1958.jsonlA.bz2', 'GDL-1959.jsonlA.bz2', 'GDL-1960.jsonlA.bz2']\n",
      "GDL-1958.jsonlA.bz2\n",
      " 1/3\n",
      "GDL-1959.jsonlA.bz2\n",
      " 2/3\n",
      "GDL-1960.jsonlA.bz2\n",
      " 3/3\n"
     ]
    }
   ],
   "source": [
    "csvtxtwriter(\"text1.csv\", 1959, 6, 29, 150, -308, \"1960-01-12\")"
   ]
  },
  {
   "cell_type": "code",
   "execution_count": 25,
   "metadata": {},
   "outputs": [],
   "source": [
    "def fromCSVtoGraph(csvname):\n",
    "    a = pd.read_csv(csvname, delimiter='*')\n",
    "    futurG = a.groupby(['date']).count().sort_values(by='date')\n",
    "    ax = futurG.plot(kind='bar')\n",
    "    ax.legend([\"Occurences\"]);\n",
    "    return ax"
   ]
  },
  {
   "cell_type": "code",
   "execution_count": 26,
   "metadata": {},
   "outputs": [
    {
     "data": {
      "text/plain": [
       "<matplotlib.axes._subplots.AxesSubplot at 0x1f3b0fd3a20>"
      ]
     },
     "execution_count": 26,
     "metadata": {},
     "output_type": "execute_result"
    },
    {
     "data": {
      "image/png": "[encoded data removed]",
      "text/plain": [
       "<Figure size 432x288 with 1 Axes>"
      ]
     },
     "metadata": {},
     "output_type": "display_data"
    }
   ],
   "source": [
    "fromCSVtoGraph('text1.csv')"
   ]
  },
  {
   "cell_type": "code",
   "execution_count": null,
   "metadata": {
    "scrolled": true
   },
   "outputs": [],
   "source": [
    "a = pd.read_csv('text1.csv', delimiter='*')\n"
   ]
  },
  {
   "cell_type": "code",
   "execution_count": null,
   "metadata": {},
   "outputs": [],
   "source": [
    "a"
   ]
  },
  {
   "cell_type": "code",
   "execution_count": null,
   "metadata": {},
   "outputs": [],
   "source": [
    "futurG = a.groupby(['date']).count().sort_values(by='date')"
   ]
  },
  {
   "cell_type": "code",
   "execution_count": null,
   "metadata": {},
   "outputs": [],
   "source": [
    "futurG"
   ]
  },
  {
   "cell_type": "code",
   "execution_count": null,
   "metadata": {},
   "outputs": [],
   "source": [
    "ax = futurG.plot(kind='bar')\n",
    "ax.legend([\"Occurences\"]);"
   ]
  },
  {
   "cell_type": "code",
   "execution_count": null,
   "metadata": {},
   "outputs": [],
   "source": []
  },
  {
   "cell_type": "code",
   "execution_count": null,
   "metadata": {},
   "outputs": [],
   "source": []
  }
 ],
 "metadata": {
  "kernelspec": {
   "display_name": "Python 3",
   "language": "python",
   "name": "python3"
  },
  "language_info": {
   "codemirror_mode": {
    "name": "ipython",
    "version": 3
   },
   "file_extension": ".py",
   "mimetype": "text/x-python",
   "name": "python",
   "nbconvert_exporter": "python",
   "pygments_lexer": "ipython3",
   "version": "3.6.5"
  }
 },
 "nbformat": 4,
 "nbformat_minor": 2
}
